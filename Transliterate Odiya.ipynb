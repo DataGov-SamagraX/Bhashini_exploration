{
 "cells": [
  {
   "cell_type": "markdown",
   "id": "315e88b1",
   "metadata": {},
   "source": [
    "### Installing libraries"
   ]
  },
  {
   "cell_type": "code",
   "execution_count": 32,
   "id": "5e602bd8",
   "metadata": {},
   "outputs": [],
   "source": [
    "import pandas as pd\n",
    "import swifter"
   ]
  },
  {
   "cell_type": "code",
   "execution_count": 1,
   "id": "765fdf49",
   "metadata": {},
   "outputs": [],
   "source": [
    "from ai4bharat.transliteration import XlitEngine"
   ]
  },
  {
   "cell_type": "markdown",
   "id": "8480edd7",
   "metadata": {},
   "source": [
    "### Reading data "
   ]
  },
  {
   "cell_type": "code",
   "execution_count": 9,
   "id": "904649b5",
   "metadata": {},
   "outputs": [],
   "source": [
    "data = pd.read_csv('final_output_text.csv')"
   ]
  },
  {
   "cell_type": "code",
   "execution_count": 11,
   "id": "5baceb56",
   "metadata": {},
   "outputs": [
    {
     "name": "stdout",
     "output_type": "stream",
     "text": [
      "Initializing Multilingual model for transliteration\n"
     ]
    }
   ],
   "source": [
    "odiya_translit = XlitEngine(src_script_type=\"indic\", beam_width=5, rescore=False)"
   ]
  },
  {
   "cell_type": "markdown",
   "id": "25c59d22",
   "metadata": {},
   "source": [
    "### Example with one word: "
   ]
  },
  {
   "cell_type": "code",
   "execution_count": 48,
   "id": "6f27cba1",
   "metadata": {},
   "outputs": [
    {
     "name": "stdout",
     "output_type": "stream",
     "text": [
      "Odiya word:  ଶରତ ଚନ୍ଦ୍ର ସାହୁ\n"
     ]
    }
   ],
   "source": [
    "print ('Odiya word: ',data.bhulek_tenant[3])"
   ]
  },
  {
   "cell_type": "code",
   "execution_count": 49,
   "id": "65c1dc00",
   "metadata": {},
   "outputs": [
    {
     "name": "stdout",
     "output_type": "stream",
     "text": [
      "Transliteration :  sharat chandra saahu\n"
     ]
    }
   ],
   "source": [
    "print('Transliteration : ',odiya_translit.translit_sentence(data.bhulek_tenant[3],lang_code=\"or\" ))"
   ]
  },
  {
   "cell_type": "markdown",
   "id": "4ef7ff7c",
   "metadata": {},
   "source": [
    "### Transliterating the table: "
   ]
  },
  {
   "cell_type": "code",
   "execution_count": 42,
   "id": "48492cda",
   "metadata": {},
   "outputs": [],
   "source": [
    "df = data.loc[range(0,100),:]"
   ]
  },
  {
   "cell_type": "code",
   "execution_count": 43,
   "id": "605252d5",
   "metadata": {},
   "outputs": [
    {
     "name": "stderr",
     "output_type": "stream",
     "text": [
      "Pandas Apply: 100%|██████████████████████████████████████████████████████████████████| 100/100 [00:29<00:00,  3.37it/s]"
     ]
    },
    {
     "name": "stdout",
     "output_type": "stream",
     "text": [
      "Wall time: 34.9 s\n"
     ]
    },
    {
     "name": "stderr",
     "output_type": "stream",
     "text": [
      "\n"
     ]
    }
   ],
   "source": [
    "%%time \n",
    "df['translit'] = df['bhulek_tenant'].swifter.apply(lambda x: odiya_translit.translit_sentence(x,lang_code=\"or\"))"
   ]
  },
  {
   "cell_type": "code",
   "execution_count": 51,
   "id": "3f647b8a",
   "metadata": {},
   "outputs": [
    {
     "data": {
      "text/html": [
       "<div>\n",
       "<style scoped>\n",
       "    .dataframe tbody tr th:only-of-type {\n",
       "        vertical-align: middle;\n",
       "    }\n",
       "\n",
       "    .dataframe tbody tr th {\n",
       "        vertical-align: top;\n",
       "    }\n",
       "\n",
       "    .dataframe thead th {\n",
       "        text-align: right;\n",
       "    }\n",
       "</style>\n",
       "<table border=\"1\" class=\"dataframe\">\n",
       "  <thead>\n",
       "    <tr style=\"text-align: right;\">\n",
       "      <th></th>\n",
       "      <th>Id</th>\n",
       "      <th>bhulek_tenant</th>\n",
       "      <th>bhulek_tenant_english</th>\n",
       "      <th>translit</th>\n",
       "    </tr>\n",
       "  </thead>\n",
       "  <tbody>\n",
       "    <tr>\n",
       "      <th>0</th>\n",
       "      <td>1</td>\n",
       "      <td>କୁତୁଲି ପ୍ରଧାନ</td>\n",
       "      <td>Kutuli Pradhan</td>\n",
       "      <td>kutuli pradhan</td>\n",
       "    </tr>\n",
       "    <tr>\n",
       "      <th>1</th>\n",
       "      <td>2</td>\n",
       "      <td>ବାବୁ ପ୍ରଧାନ</td>\n",
       "      <td>Babu Pradhan</td>\n",
       "      <td>baabu pradhan</td>\n",
       "    </tr>\n",
       "    <tr>\n",
       "      <th>2</th>\n",
       "      <td>3</td>\n",
       "      <td>ଚିତ୍ର ପ୍ରଧାନ</td>\n",
       "      <td>Image Principal</td>\n",
       "      <td>chitra pradhan</td>\n",
       "    </tr>\n",
       "    <tr>\n",
       "      <th>3</th>\n",
       "      <td>4</td>\n",
       "      <td>ଶରତ ଚନ୍ଦ୍ର ସାହୁ</td>\n",
       "      <td>Sarat Chandra Sahu</td>\n",
       "      <td>sharat chandra saahu</td>\n",
       "    </tr>\n",
       "    <tr>\n",
       "      <th>4</th>\n",
       "      <td>5</td>\n",
       "      <td>ଗ୍ୟାନ ଘାସି</td>\n",
       "      <td>Gyan Ghasi</td>\n",
       "      <td>gyana ghasi</td>\n",
       "    </tr>\n",
       "    <tr>\n",
       "      <th>...</th>\n",
       "      <td>...</td>\n",
       "      <td>...</td>\n",
       "      <td>...</td>\n",
       "      <td>...</td>\n",
       "    </tr>\n",
       "    <tr>\n",
       "      <th>95</th>\n",
       "      <td>96</td>\n",
       "      <td>ଭେନ ସେଣ୍ଟ କିସାନ</td>\n",
       "      <td>Van Saint Farmers</td>\n",
       "      <td>bhena cent kissan</td>\n",
       "    </tr>\n",
       "    <tr>\n",
       "      <th>96</th>\n",
       "      <td>97</td>\n",
       "      <td>ଅଳେଇ ସାହୁ</td>\n",
       "      <td>Alyay Sahu</td>\n",
       "      <td>alei saahu</td>\n",
       "    </tr>\n",
       "    <tr>\n",
       "      <th>97</th>\n",
       "      <td>98</td>\n",
       "      <td>ଟେରସା କିସାନ</td>\n",
       "      <td>Terasa Farmer</td>\n",
       "      <td>tersa kissan</td>\n",
       "    </tr>\n",
       "    <tr>\n",
       "      <th>98</th>\n",
       "      <td>99</td>\n",
       "      <td>ପୂର୍ଣ୍ଣଚନ୍ଦ୍ର ଦେ</td>\n",
       "      <td>Poorna Chandra Dey</td>\n",
       "      <td>purnachandra dee</td>\n",
       "    </tr>\n",
       "    <tr>\n",
       "      <th>99</th>\n",
       "      <td>100</td>\n",
       "      <td>ପୂର୍ଣ୍ଣଚନ୍ଦ୍ର ଦେ</td>\n",
       "      <td>Poorna Chandra Dey</td>\n",
       "      <td>purnachandra dee</td>\n",
       "    </tr>\n",
       "  </tbody>\n",
       "</table>\n",
       "<p>100 rows × 4 columns</p>\n",
       "</div>"
      ],
      "text/plain": [
       "     Id     bhulek_tenant bhulek_tenant_english              translit\n",
       "0     1     କୁତୁଲି ପ୍ରଧାନ        Kutuli Pradhan        kutuli pradhan\n",
       "1     2       ବାବୁ ପ୍ରଧାନ          Babu Pradhan         baabu pradhan\n",
       "2     3      ଚିତ୍ର ପ୍ରଧାନ       Image Principal        chitra pradhan\n",
       "3     4   ଶରତ ଚନ୍ଦ୍ର ସାହୁ    Sarat Chandra Sahu  sharat chandra saahu\n",
       "4     5        ଗ୍ୟାନ ଘାସି            Gyan Ghasi           gyana ghasi\n",
       "..  ...               ...                   ...                   ...\n",
       "95   96   ଭେନ ସେଣ୍ଟ କିସାନ     Van Saint Farmers     bhena cent kissan\n",
       "96   97         ଅଳେଇ ସାହୁ            Alyay Sahu            alei saahu\n",
       "97   98       ଟେରସା କିସାନ         Terasa Farmer          tersa kissan\n",
       "98   99  ପୂର୍ଣ୍ଣଚନ୍ଦ୍ର ଦେ    Poorna Chandra Dey      purnachandra dee\n",
       "99  100  ପୂର୍ଣ୍ଣଚନ୍ଦ୍ର ଦେ    Poorna Chandra Dey      purnachandra dee\n",
       "\n",
       "[100 rows x 4 columns]"
      ]
     },
     "execution_count": 51,
     "metadata": {},
     "output_type": "execute_result"
    }
   ],
   "source": [
    "df"
   ]
  }
 ],
 "metadata": {
  "kernelspec": {
   "display_name": "Python 3 (ipykernel)",
   "language": "python",
   "name": "python3"
  },
  "language_info": {
   "codemirror_mode": {
    "name": "ipython",
    "version": 3
   },
   "file_extension": ".py",
   "mimetype": "text/x-python",
   "name": "python",
   "nbconvert_exporter": "python",
   "pygments_lexer": "ipython3",
   "version": "3.7.13"
  },
  "toc": {
   "base_numbering": 1,
   "nav_menu": {},
   "number_sections": true,
   "sideBar": true,
   "skip_h1_title": false,
   "title_cell": "Table of Contents",
   "title_sidebar": "Contents",
   "toc_cell": false,
   "toc_position": {},
   "toc_section_display": true,
   "toc_window_display": false
  },
  "varInspector": {
   "cols": {
    "lenName": 16,
    "lenType": 16,
    "lenVar": 40
   },
   "kernels_config": {
    "python": {
     "delete_cmd_postfix": "",
     "delete_cmd_prefix": "del ",
     "library": "var_list.py",
     "varRefreshCmd": "print(var_dic_list())"
    },
    "r": {
     "delete_cmd_postfix": ") ",
     "delete_cmd_prefix": "rm(",
     "library": "var_list.r",
     "varRefreshCmd": "cat(var_dic_list()) "
    }
   },
   "types_to_exclude": [
    "module",
    "function",
    "builtin_function_or_method",
    "instance",
    "_Feature"
   ],
   "window_display": false
  }
 },
 "nbformat": 4,
 "nbformat_minor": 5
}
